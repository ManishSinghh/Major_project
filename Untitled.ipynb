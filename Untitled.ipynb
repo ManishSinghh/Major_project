{
 "cells": [
  {
   "cell_type": "code",
   "execution_count": 2,
   "id": "ec6984c1",
   "metadata": {},
   "outputs": [
    {
     "ename": "IndentationError",
     "evalue": "expected an indented block (2657432815.py, line 16)",
     "output_type": "error",
     "traceback": [
      "\u001b[1;36m  Input \u001b[1;32mIn [2]\u001b[1;36m\u001b[0m\n\u001b[1;33m    def extract_features(image):\u001b[0m\n\u001b[1;37m    ^\u001b[0m\n\u001b[1;31mIndentationError\u001b[0m\u001b[1;31m:\u001b[0m expected an indented block\n"
     ]
    }
   ],
   "source": [
    "import cv2\n",
    "import mediapipe as mp\n",
    "import numpy as np\n",
    "import pandas as pd\n",
    "from sklearn.model_selection import train_test_split\n",
    "from sklearn.svm import SVC\n",
    "from sklearn.metrics import accuracy_score\n",
    "\n",
    "# Initialize Mediapipe Holistic model\n",
    "mp_holistic = mp.solutions.holistic\n",
    "\n",
    "# Load dataset and annotations\n",
    "def load_dataset():\n",
    "    # TODO: Load your dataset and annotations here\n",
    "    # Return a list of image paths and corresponding labels\n",
    "def extract_features(image):\n",
    "    # TODO: Implement feature extraction here using the Holistic model\n",
    "    # Return the extracted features as a list or numpy array\n",
    "\n",
    "def train_model(X_train, y_train):\n",
    "    # TODO: Train your machine learning model here\n",
    "    # Return the trained model\n",
    "\n",
    "def test_model(model, X_test, y_test):\n",
    "    # TODO: Test your trained model here\n",
    "    # Return the accuracy of the model\n",
    "\n",
    "def main():\n",
    "    # Load dataset and annotations\n",
    "    images, labels = load_dataset()\n",
    "\n",
    "    # Split dataset into training and testing sets\n",
    "    X_train, X_test, y_train, y_test = train_test_split(images, labels, test_size=0.2, random_state=42)\n",
    "\n",
    "    # Extract features from training set\n",
    "    X_train_features = []\n",
    "    for image in X_train:\n",
    "        features = extract_features(image)\n",
    "        X_train_features.append(features)\n",
    "\n",
    "    # Train the model\n",
    "    model = train_model(X_train_features, y_train)\n",
    "\n",
    "    # Extract features from testing set\n",
    "    X_test_features = []\n",
    "    for image in X_test:\n",
    "        features = extract_features(image)\n",
    "        X_test_features.append(features)\n",
    "\n",
    "    # Test the model\n",
    "    accuracy = test_model(model, X_test_features, y_test)\n",
    "    print(\"Accuracy:\", accuracy)\n",
    "\n",
    "if __name__ == \"__main__\":\n",
    "    main()\n"
   ]
  },
  {
   "cell_type": "code",
   "execution_count": null,
   "id": "2839a56d",
   "metadata": {},
   "outputs": [],
   "source": []
  }
 ],
 "metadata": {
  "kernelspec": {
   "display_name": "Python 3 (ipykernel)",
   "language": "python",
   "name": "python3"
  },
  "language_info": {
   "codemirror_mode": {
    "name": "ipython",
    "version": 3
   },
   "file_extension": ".py",
   "mimetype": "text/x-python",
   "name": "python",
   "nbconvert_exporter": "python",
   "pygments_lexer": "ipython3",
   "version": "3.9.12"
  }
 },
 "nbformat": 4,
 "nbformat_minor": 5
}
